{
  "nbformat": 4,
  "nbformat_minor": 0,
  "metadata": {
    "colab": {
      "name": "ES_DOE2_8760.ipynb",
      "provenance": [],
      "collapsed_sections": [],
      "authorship_tag": "ABX9TyNzvLKt2WLPyCJDWrSmOzhc",
      "include_colab_link": true
    },
    "kernelspec": {
      "name": "python3",
      "display_name": "Python 3"
    },
    "language_info": {
      "name": "python"
    }
  },
  "cells": [
    {
      "cell_type": "markdown",
      "metadata": {
        "id": "view-in-github",
        "colab_type": "text"
      },
      "source": [
        "<a href=\"https://colab.research.google.com/github/demianvk/demianvk/blob/main/ES_DOE2_8760.ipynb\" target=\"_parent\"><img src=\"https://colab.research.google.com/assets/colab-badge.svg\" alt=\"Open In Colab\"/></a>"
      ]
    },
    {
      "cell_type": "code",
      "metadata": {
        "colab": {
          "base_uri": "https://localhost:8080/"
        },
        "id": "7KZwY_WibhvY",
        "outputId": "3f27a7df-c007-4904-ec24-5f9d907a1e00"
      },
      "source": [
        "import pandas as pd\n",
        "from google.colab import drive\n",
        "import os\n",
        "import seaborn as sns \n",
        "import matplotlib.pyplot as plt\n",
        "from datetime import datetime\n",
        "%matplotlib inline\n",
        "drive.mount('/content/gdrive')\n",
        "os.chdir(\"/content/gdrive/My Drive/Colab Notebooks/\")"
      ],
      "execution_count": null,
      "outputs": [
        {
          "output_type": "stream",
          "name": "stdout",
          "text": [
            "Mounted at /content/gdrive\n"
          ]
        }
      ]
    },
    {
      "cell_type": "code",
      "metadata": {
        "id": "0TDIifkZcKFd"
      },
      "source": [
        "rd_df = pd.read_csv(\"Proposed6_VRV01.csv\")\n",
        "rd_df.rename(columns={'Year':'year',' Month':'month',' Day':'day',' Hour':'hour', ' DB':'outdoor temp'}, inplace=True)#it works!!!!"
      ],
      "execution_count": null,
      "outputs": []
    },
    {
      "cell_type": "code",
      "metadata": {
        "id": "YquolNC4vbco"
      },
      "source": [
        "#rd_df.rename(columns={'Year':'year',' Month':'month',' Day':'day',' Hour':'hour', ' DB':'outdoor temp'}, inplace=True)#it works!!!!"
      ],
      "execution_count": null,
      "outputs": []
    },
    {
      "cell_type": "code",
      "metadata": {
        "id": "z7nshlIecR80",
        "colab": {
          "base_uri": "https://localhost:8080/",
          "height": 241
        },
        "outputId": "4c0a02b8-a1ca-49d3-cab0-edc5fa5c7348"
      },
      "source": [
        "rd_df.head()"
      ],
      "execution_count": null,
      "outputs": [
        {
          "output_type": "execute_result",
          "data": {
            "text/html": [
              "<div>\n",
              "<style scoped>\n",
              "    .dataframe tbody tr th:only-of-type {\n",
              "        vertical-align: middle;\n",
              "    }\n",
              "\n",
              "    .dataframe tbody tr th {\n",
              "        vertical-align: top;\n",
              "    }\n",
              "\n",
              "    .dataframe thead th {\n",
              "        text-align: right;\n",
              "    }\n",
              "</style>\n",
              "<table border=\"1\" class=\"dataframe\">\n",
              "  <thead>\n",
              "    <tr style=\"text-align: right;\">\n",
              "      <th></th>\n",
              "      <th>year</th>\n",
              "      <th>month</th>\n",
              "      <th>day</th>\n",
              "      <th>hour</th>\n",
              "      <th>outdoor temp</th>\n",
              "      <th>WB</th>\n",
              "      <th>Solar</th>\n",
              "      <th>TDV Elec</th>\n",
              "      <th>Elec Heat</th>\n",
              "      <th>Elec Cool</th>\n",
              "      <th>Elec InLight</th>\n",
              "      <th>Elec OutLight</th>\n",
              "      <th>Elec ProcLight</th>\n",
              "      <th>Elec Recep</th>\n",
              "      <th>Elec Fans</th>\n",
              "      <th>Elec HR</th>\n",
              "      <th>Elec Pumps</th>\n",
              "      <th>Elec Process</th>\n",
              "      <th>Elec DHW</th>\n",
              "      <th>Elec Exterior</th>\n",
              "      <th>TDV Gas</th>\n",
              "      <th>Gas Heat</th>\n",
              "      <th>Gas Cool</th>\n",
              "      <th>Gas Process</th>\n",
              "      <th>Gas DHW</th>\n",
              "      <th>Gas Exterior</th>\n",
              "      <th>HW Load</th>\n",
              "      <th>CHW Load</th>\n",
              "      <th>Tank Melt</th>\n",
              "      <th>Tank Cap</th>\n",
              "      <th>ElecCO2</th>\n",
              "      <th>GasCO2</th>\n",
              "    </tr>\n",
              "  </thead>\n",
              "  <tbody>\n",
              "    <tr>\n",
              "      <th>0</th>\n",
              "      <td>0</td>\n",
              "      <td>1</td>\n",
              "      <td>1</td>\n",
              "      <td>1</td>\n",
              "      <td>45</td>\n",
              "      <td>43</td>\n",
              "      <td>0</td>\n",
              "      <td>0</td>\n",
              "      <td>2320</td>\n",
              "      <td>0</td>\n",
              "      <td>1663</td>\n",
              "      <td>2560</td>\n",
              "      <td>0</td>\n",
              "      <td>8261</td>\n",
              "      <td>793</td>\n",
              "      <td>0</td>\n",
              "      <td>0</td>\n",
              "      <td>0</td>\n",
              "      <td>164</td>\n",
              "      <td>0</td>\n",
              "      <td>0</td>\n",
              "      <td>1</td>\n",
              "      <td>0</td>\n",
              "      <td>0</td>\n",
              "      <td>0</td>\n",
              "      <td>0</td>\n",
              "      <td>0</td>\n",
              "      <td>0</td>\n",
              "      <td>0</td>\n",
              "      <td>0</td>\n",
              "      <td>5.832</td>\n",
              "      <td>0</td>\n",
              "    </tr>\n",
              "    <tr>\n",
              "      <th>1</th>\n",
              "      <td>0</td>\n",
              "      <td>1</td>\n",
              "      <td>1</td>\n",
              "      <td>2</td>\n",
              "      <td>46</td>\n",
              "      <td>45</td>\n",
              "      <td>0</td>\n",
              "      <td>0</td>\n",
              "      <td>0</td>\n",
              "      <td>0</td>\n",
              "      <td>1663</td>\n",
              "      <td>2560</td>\n",
              "      <td>0</td>\n",
              "      <td>8261</td>\n",
              "      <td>0</td>\n",
              "      <td>0</td>\n",
              "      <td>0</td>\n",
              "      <td>0</td>\n",
              "      <td>164</td>\n",
              "      <td>0</td>\n",
              "      <td>0</td>\n",
              "      <td>0</td>\n",
              "      <td>0</td>\n",
              "      <td>0</td>\n",
              "      <td>0</td>\n",
              "      <td>0</td>\n",
              "      <td>0</td>\n",
              "      <td>0</td>\n",
              "      <td>0</td>\n",
              "      <td>0</td>\n",
              "      <td>4.680</td>\n",
              "      <td>0</td>\n",
              "    </tr>\n",
              "    <tr>\n",
              "      <th>2</th>\n",
              "      <td>0</td>\n",
              "      <td>1</td>\n",
              "      <td>1</td>\n",
              "      <td>3</td>\n",
              "      <td>48</td>\n",
              "      <td>46</td>\n",
              "      <td>0</td>\n",
              "      <td>0</td>\n",
              "      <td>1903</td>\n",
              "      <td>0</td>\n",
              "      <td>1663</td>\n",
              "      <td>2560</td>\n",
              "      <td>0</td>\n",
              "      <td>8261</td>\n",
              "      <td>793</td>\n",
              "      <td>0</td>\n",
              "      <td>0</td>\n",
              "      <td>0</td>\n",
              "      <td>164</td>\n",
              "      <td>0</td>\n",
              "      <td>0</td>\n",
              "      <td>1</td>\n",
              "      <td>0</td>\n",
              "      <td>0</td>\n",
              "      <td>0</td>\n",
              "      <td>0</td>\n",
              "      <td>0</td>\n",
              "      <td>0</td>\n",
              "      <td>0</td>\n",
              "      <td>0</td>\n",
              "      <td>5.677</td>\n",
              "      <td>0</td>\n",
              "    </tr>\n",
              "    <tr>\n",
              "      <th>3</th>\n",
              "      <td>0</td>\n",
              "      <td>1</td>\n",
              "      <td>1</td>\n",
              "      <td>4</td>\n",
              "      <td>46</td>\n",
              "      <td>45</td>\n",
              "      <td>0</td>\n",
              "      <td>0</td>\n",
              "      <td>0</td>\n",
              "      <td>0</td>\n",
              "      <td>1663</td>\n",
              "      <td>2560</td>\n",
              "      <td>0</td>\n",
              "      <td>8261</td>\n",
              "      <td>0</td>\n",
              "      <td>0</td>\n",
              "      <td>0</td>\n",
              "      <td>0</td>\n",
              "      <td>164</td>\n",
              "      <td>0</td>\n",
              "      <td>0</td>\n",
              "      <td>0</td>\n",
              "      <td>0</td>\n",
              "      <td>0</td>\n",
              "      <td>0</td>\n",
              "      <td>0</td>\n",
              "      <td>0</td>\n",
              "      <td>0</td>\n",
              "      <td>0</td>\n",
              "      <td>0</td>\n",
              "      <td>4.680</td>\n",
              "      <td>0</td>\n",
              "    </tr>\n",
              "    <tr>\n",
              "      <th>4</th>\n",
              "      <td>0</td>\n",
              "      <td>1</td>\n",
              "      <td>1</td>\n",
              "      <td>5</td>\n",
              "      <td>48</td>\n",
              "      <td>46</td>\n",
              "      <td>0</td>\n",
              "      <td>0</td>\n",
              "      <td>1920</td>\n",
              "      <td>0</td>\n",
              "      <td>1663</td>\n",
              "      <td>2560</td>\n",
              "      <td>0</td>\n",
              "      <td>8261</td>\n",
              "      <td>793</td>\n",
              "      <td>0</td>\n",
              "      <td>0</td>\n",
              "      <td>0</td>\n",
              "      <td>164</td>\n",
              "      <td>0</td>\n",
              "      <td>0</td>\n",
              "      <td>1</td>\n",
              "      <td>0</td>\n",
              "      <td>0</td>\n",
              "      <td>0</td>\n",
              "      <td>0</td>\n",
              "      <td>0</td>\n",
              "      <td>0</td>\n",
              "      <td>0</td>\n",
              "      <td>0</td>\n",
              "      <td>5.684</td>\n",
              "      <td>0</td>\n",
              "    </tr>\n",
              "  </tbody>\n",
              "</table>\n",
              "</div>"
            ],
            "text/plain": [
              "   year  month  day  hour  ...   Tank Melt   Tank Cap   ElecCO2   GasCO2\n",
              "0     0      1    1     1  ...           0          0     5.832        0\n",
              "1     0      1    1     2  ...           0          0     4.680        0\n",
              "2     0      1    1     3  ...           0          0     5.677        0\n",
              "3     0      1    1     4  ...           0          0     4.680        0\n",
              "4     0      1    1     5  ...           0          0     5.684        0\n",
              "\n",
              "[5 rows x 32 columns]"
            ]
          },
          "metadata": {},
          "execution_count": 24
        }
      ]
    },
    {
      "cell_type": "code",
      "metadata": {
        "id": "xsb604rT0Zx1"
      },
      "source": [
        "rd_df.info()"
      ],
      "execution_count": null,
      "outputs": []
    },
    {
      "cell_type": "code",
      "metadata": {
        "id": "H-JOvgRocWMW"
      },
      "source": [
        "rd_df['year'] = rd_df.apply(lambda x : rd_df['year']+2000, axis=1)#make the year actually look like a year in the DF.\n",
        "rd_df['hour'] = rd_df['hour'].sub(1)\n",
        "rd_df['total_elec'] = rd_df.iloc[:,8:-12].sum(axis=1)#add up the electric usage\n",
        "rd_df['total_heatcool'] = rd_df.iloc[:,8:10].sum(axis=1)#add up the heating and coooling usage\n",
        "rd_df['total_heatcool_fans'] = rd_df.iloc[:,[14,33]].sum(axis=1)\n",
        "rd_df['total_heatcool_fans'] = rd_df['total_heatcool_fans'].div(1000) #get kbtu"
      ],
      "execution_count": null,
      "outputs": []
    },
    {
      "cell_type": "code",
      "metadata": {
        "id": "-ZiRVL0zf49e"
      },
      "source": [
        "#rd_df['hour'] = rd_df['hour'].sub(1)"
      ],
      "execution_count": null,
      "outputs": []
    },
    {
      "cell_type": "markdown",
      "metadata": {
        "id": "zedDq8Pa98rR"
      },
      "source": [
        "**DateTime needs to be 0-23 (not 1-24)**"
      ]
    },
    {
      "cell_type": "code",
      "metadata": {
        "id": "AlHPtnAbdKdw"
      },
      "source": [
        "rd_df.head(20)"
      ],
      "execution_count": null,
      "outputs": []
    },
    {
      "cell_type": "code",
      "metadata": {
        "id": "guRon6M4emQR"
      },
      "source": [
        "#rd_df['total_elec'] = rd_df.iloc[:,8:-12].sum(axis=1)#add up the electric usage"
      ],
      "execution_count": null,
      "outputs": []
    },
    {
      "cell_type": "code",
      "metadata": {
        "id": "PpgXlP-zeq7y"
      },
      "source": [
        "#rd_df['total_heatcool'] = rd_df.iloc[:,8:10].sum(axis=1)#add up the heating and coooling usage"
      ],
      "execution_count": null,
      "outputs": []
    },
    {
      "cell_type": "code",
      "metadata": {
        "id": "4TtEPr03evAa"
      },
      "source": [
        "#rd_df['total_heatcool_fans'] = rd_df.iloc[:,[14,32]].sum(axis=1)"
      ],
      "execution_count": null,
      "outputs": []
    },
    {
      "cell_type": "code",
      "metadata": {
        "id": "gJTtauJHpLhW"
      },
      "source": [
        "#rd_df['total_heatcool_fans'] = rd_df['total_heatcool_fans'].div(1000) #get kbtu"
      ],
      "execution_count": null,
      "outputs": []
    },
    {
      "cell_type": "code",
      "metadata": {
        "id": "wD0du-ZvU-cI"
      },
      "source": [
        "rd_df['time'] = rd_df['hour'].map(str) + ':00' + ':00'\n",
        "rd_df['date_time'] = rd_df['year'].map(str) + '-' + rd_df['month'].map(str) + '-' + rd_df['day'].map(str) + ' ' + rd_df['time'].map(str) #convert to string and combine - awesome"
      ],
      "execution_count": null,
      "outputs": []
    },
    {
      "cell_type": "code",
      "metadata": {
        "id": "wb7ClO8rrhSy"
      },
      "source": [
        "#rd_df['date_time'] = rd_df['year'].map(str) + '-' + rd_df['month'].map(str) + '-' + rd_df['day'].map(str) + ' ' + rd_df['time'].map(str) #convert to string and combine - awesome"
      ],
      "execution_count": null,
      "outputs": []
    },
    {
      "cell_type": "code",
      "metadata": {
        "id": "nKXbSDrO2kpy"
      },
      "source": [
        "rd_filter = rd_df.filter(['date_time', 'total_heatcool_fans', 'outdoor temp'], axis=1)"
      ],
      "execution_count": null,
      "outputs": []
    },
    {
      "cell_type": "code",
      "metadata": {
        "id": "foyrFlrLlTKO"
      },
      "source": [
        "rd_filter.to_csv('doeElecUse.csv', encoding='utf-8', index=False)#Open this file next time."
      ],
      "execution_count": null,
      "outputs": []
    },
    {
      "cell_type": "markdown",
      "metadata": {
        "id": "koN9eTpN9lcZ"
      },
      "source": [
        "The above 7 steps create columns for the energy use as well as creating the DateTime column for reference."
      ]
    },
    {
      "cell_type": "code",
      "metadata": {
        "id": "CqMEPc2u4tt0"
      },
      "source": [
        "df = pd.read_csv(\"doeElecUse.csv\", parse_dates=['date_time'],index_col='date_time')\n",
        "#df = df.resample(\"D\").mean()"
      ],
      "execution_count": null,
      "outputs": []
    },
    {
      "cell_type": "code",
      "metadata": {
        "id": "hLuSEsBZJXW7"
      },
      "source": [
        "df = df.resample(\"D\").mean()"
      ],
      "execution_count": null,
      "outputs": []
    },
    {
      "cell_type": "code",
      "metadata": {
        "id": "Vx1ZFP-m7gg9"
      },
      "source": [
        "df = df[df['total_heatcool_fans']>5]"
      ],
      "execution_count": null,
      "outputs": []
    },
    {
      "cell_type": "markdown",
      "metadata": {
        "id": "sn2Ype2xWNne"
      },
      "source": [
        "**re-input with date_time loaded.**"
      ]
    },
    {
      "cell_type": "code",
      "metadata": {
        "id": "Q0zghGE7Ve9c",
        "colab": {
          "base_uri": "https://localhost:8080/",
          "height": 235
        },
        "outputId": "4978d7ba-b3e2-46f5-ee3f-06d19a09caac"
      },
      "source": [
        "df.head()"
      ],
      "execution_count": null,
      "outputs": [
        {
          "output_type": "execute_result",
          "data": {
            "text/html": [
              "<div>\n",
              "<style scoped>\n",
              "    .dataframe tbody tr th:only-of-type {\n",
              "        vertical-align: middle;\n",
              "    }\n",
              "\n",
              "    .dataframe tbody tr th {\n",
              "        vertical-align: top;\n",
              "    }\n",
              "\n",
              "    .dataframe thead th {\n",
              "        text-align: right;\n",
              "    }\n",
              "</style>\n",
              "<table border=\"1\" class=\"dataframe\">\n",
              "  <thead>\n",
              "    <tr style=\"text-align: right;\">\n",
              "      <th></th>\n",
              "      <th>total_heatcool_fans</th>\n",
              "      <th>outdoor temp</th>\n",
              "    </tr>\n",
              "    <tr>\n",
              "      <th>date_time</th>\n",
              "      <th></th>\n",
              "      <th></th>\n",
              "    </tr>\n",
              "  </thead>\n",
              "  <tbody>\n",
              "    <tr>\n",
              "      <th>2000-01-02</th>\n",
              "      <td>70629.208333</td>\n",
              "      <td>45.166667</td>\n",
              "    </tr>\n",
              "    <tr>\n",
              "      <th>2000-01-04</th>\n",
              "      <td>76010.916667</td>\n",
              "      <td>41.750000</td>\n",
              "    </tr>\n",
              "    <tr>\n",
              "      <th>2000-01-05</th>\n",
              "      <td>60190.541667</td>\n",
              "      <td>44.125000</td>\n",
              "    </tr>\n",
              "    <tr>\n",
              "      <th>2000-01-06</th>\n",
              "      <td>54160.333333</td>\n",
              "      <td>46.958333</td>\n",
              "    </tr>\n",
              "    <tr>\n",
              "      <th>2000-01-07</th>\n",
              "      <td>52356.083333</td>\n",
              "      <td>55.000000</td>\n",
              "    </tr>\n",
              "  </tbody>\n",
              "</table>\n",
              "</div>"
            ],
            "text/plain": [
              "            total_heatcool_fans  outdoor temp\n",
              "date_time                                    \n",
              "2000-01-02         70629.208333     45.166667\n",
              "2000-01-04         76010.916667     41.750000\n",
              "2000-01-05         60190.541667     44.125000\n",
              "2000-01-06         54160.333333     46.958333\n",
              "2000-01-07         52356.083333     55.000000"
            ]
          },
          "metadata": {},
          "execution_count": 73
        }
      ]
    },
    {
      "cell_type": "code",
      "metadata": {
        "id": "_2sTh53EfHMp",
        "colab": {
          "base_uri": "https://localhost:8080/"
        },
        "outputId": "a24d0641-6052-44a7-a68c-73e729ee0f0c"
      },
      "source": [
        "df.info(50)"
      ],
      "execution_count": null,
      "outputs": [
        {
          "output_type": "stream",
          "name": "stdout",
          "text": [
            "<class 'pandas.core.frame.DataFrame'>\n",
            "DatetimeIndex: 251 entries, 2000-01-04 to 2000-12-30\n",
            "Data columns (total 2 columns):\n",
            " #   Column               Non-Null Count  Dtype  \n",
            "---  ------               --------------  -----  \n",
            " 0   total_heatcool_fans  251 non-null    float64\n",
            " 1   outdoor temp         251 non-null    float64\n",
            "dtypes: float64(2)\n",
            "memory usage: 5.9 KB\n"
          ]
        }
      ]
    },
    {
      "cell_type": "code",
      "metadata": {
        "colab": {
          "base_uri": "https://localhost:8080/",
          "height": 623
        },
        "id": "LWbu2bTwIsW0",
        "outputId": "2c041640-8df4-4d7f-81ec-bb3f7510add2"
      },
      "source": [
        "df.plot(kind='scatter', x='outdoor temp', y='total_heatcool_fans', figsize=(10,10))"
      ],
      "execution_count": null,
      "outputs": [
        {
          "output_type": "execute_result",
          "data": {
            "text/plain": [
              "<matplotlib.axes._subplots.AxesSubplot at 0x7f5209af5c10>"
            ]
          },
          "metadata": {},
          "execution_count": 31
        },
        {
          "output_type": "display_data",
          "data": {
            "image/png": "[encoded data removed]",
            "text/plain": [
              "<Figure size 720x720 with 1 Axes>"
            ]
          },
          "metadata": {
            "needs_background": "light"
          }
        }
      ]
    },
    {
      "cell_type": "code",
      "metadata": {
        "id": "m1rFsciJJI5j"
      },
      "source": [
        "df.resample('D').mean().plot(kind='scatter', x='outdoor temp', y='total_heatcool_fans', figsize=(15,10))"
      ],
      "execution_count": null,
      "outputs": []
    },
    {
      "cell_type": "code",
      "metadata": {
        "id": "bAd9Sqi4Pwks"
      },
      "source": [
        "def make_color_division(x):\n",
        "  if x <55:\n",
        "    return \"Heating\"\n",
        "  else:\n",
        "    return \"Cooling\"  "
      ],
      "execution_count": null,
      "outputs": []
    },
    {
      "cell_type": "code",
      "metadata": {
        "id": "q9fJX_ltQSnH",
        "colab": {
          "base_uri": "https://localhost:8080/"
        },
        "outputId": "461db12f-9920-4255-ecc0-9cfbed514cd6"
      },
      "source": [
        "df['heat_v_cool'] = df['outdoor temp'].apply(lambda x: make_color_division(x))"
      ],
      "execution_count": null,
      "outputs": [
        {
          "output_type": "stream",
          "name": "stderr",
          "text": [
            "/usr/local/lib/python3.7/dist-packages/ipykernel_launcher.py:1: SettingWithCopyWarning: \n",
            "A value is trying to be set on a copy of a slice from a DataFrame.\n",
            "Try using .loc[row_indexer,col_indexer] = value instead\n",
            "\n",
            "See the caveats in the documentation: https://pandas.pydata.org/pandas-docs/stable/user_guide/indexing.html#returning-a-view-versus-a-copy\n",
            "  \"\"\"Entry point for launching an IPython kernel.\n"
          ]
        }
      ]
    },
    {
      "cell_type": "code",
      "metadata": {
        "colab": {
          "base_uri": "https://localhost:8080/",
          "height": 386
        },
        "id": "XrZxzVK6j0Rc",
        "outputId": "e789bca2-3196-4223-c30e-89cccb75557f"
      },
      "source": [
        "#import matplotlib.pyplot as plt\n",
        "#plt.figure(figsize=(25,50))\n",
        "g = sns.lmplot(x=\"outdoor temp\", y=\"total_heatcool_fans\", hue=\"heat_v_cool\",\n",
        "               truncate=True, data=df, legend=True)\n",
        "\n",
        "g.set_axis_labels(\"Outdoor Air Temperature\", \"Average Hourly kBTU\")"
      ],
      "execution_count": null,
      "outputs": [
        {
          "output_type": "execute_result",
          "data": {
            "text/plain": [
              "<seaborn.axisgrid.FacetGrid at 0x7f5212a357d0>"
            ]
          },
          "metadata": {},
          "execution_count": 34
        },
        {
          "output_type": "display_data",
          "data": {
            "image/png": "[encoded data removed]",
            "text/plain": [
              "<Figure size 435.25x360 with 1 Axes>"
            ]
          },
          "metadata": {
            "needs_background": "light"
          }
        }
      ]
    }
  ]
}